{
 "cells": [
  {
   "cell_type": "code",
   "execution_count": 3,
   "metadata": {},
   "outputs": [],
   "source": [
    "import __init__\n",
    "from src.parser import Parser\n",
    "from src.converter import Converter\n",
    "\n",
    "%load_ext autoreload\n",
    "%autoreload 2"
   ]
  },
  {
   "cell_type": "code",
   "execution_count": 57,
   "metadata": {},
   "outputs": [
    {
     "name": "stdout",
     "output_type": "stream",
     "text": [
      "Reported[\"Reported\"]{'color':'orange', 'shape':'circle'}\n",
      "Triaged[\"Triaged\"]{'color':'orange', 'shape':'circle'}\n",
      "Investigated[\"Investigated\"]{'color':'orange', 'shape':'circle'}\n",
      "Resolved[\"Resolved\"]{'color':'orange', 'shape':'circle'}\n",
      "Closed[\"Closed\"]{'color':'orange', 'shape':'circle'}\n",
      "UrgencyAssessment[\"Urgency Assessment\"]{'color':'darkblue', 'shape':'rectangle'}\n",
      "Reassessment[\"Reassessment\"]{'color':'darkblue', 'shape':'rectangle'}\n",
      "UserFeedback[\"User Feedback\"]{'color':'green', 'shape':'rectangle'}\n",
      "Monitoring[\"Monitoring\"]{'color':'green', 'shape':'rectangle'}\n",
      "###\n",
      "Reported --> UrgencyAssessment\n",
      "UrgencyAssessment --> Triaged\n",
      "Triaged --> Investigated\n",
      "Investigated --> Resolved\n",
      "Resolved --> Closed\n",
      "Closed --> UserFeedback\n",
      "UserFeedback --> Monitoring\n",
      "Reassessment --> Investigated{'label':'if unresolved', 'type':'dash'}\n",
      "Monitoring --> Reassessment{'type':'dash'}\n"
     ]
    }
   ],
   "source": [
    "input_string = \"Reported[\\\"Reported\\\"]{'color':'orange', 'shape':'circle'}\\nTriaged[\\\"Triaged\\\"]{'color':'orange', 'shape':'circle'}\\nInvestigated[\\\"Investigated\\\"]{'color':'orange', 'shape':'circle'}\\nResolved[\\\"Resolved\\\"]{'color':'orange', 'shape':'circle'}\\nClosed[\\\"Closed\\\"]{'color':'orange', 'shape':'circle'}\\nUrgencyAssessment[\\\"Urgency Assessment\\\"]{'color':'darkblue', 'shape':'rectangle'}\\nReassessment[\\\"Reassessment\\\"]{'color':'darkblue', 'shape':'rectangle'}\\nUserFeedback[\\\"User Feedback\\\"]{'color':'green', 'shape':'rectangle'}\\nMonitoring[\\\"Monitoring\\\"]{'color':'green', 'shape':'rectangle'}\\n###\\nReported --> UrgencyAssessment\\nUrgencyAssessment --> Triaged\\nTriaged --> Investigated\\nInvestigated --> Resolved\\nResolved --> Closed\\nClosed --> UserFeedback\\nUserFeedback --> Monitoring\\nReassessment --> Investigated{'label':'if unresolved', 'type':'dash'}\\nMonitoring --> Reassessment{'type':'dash'}\"\n",
    "  \n",
    "print(input_string)"
   ]
  },
  {
   "cell_type": "code",
   "execution_count": 7,
   "metadata": {},
   "outputs": [
    {
     "name": "stdout",
     "output_type": "stream",
     "text": [
      "Customer[\"Customer\"]{'color':'green', 'shape':'rectangle'}\n",
      "Website[\"E-commerce Website\"]{'color':'blue', 'shape':'rectangle'}\n",
      "PaymentGateway[\"Payment Gateway\"]{'color':'red', 'shape':'rectangle'}\n",
      "Bank[\"Bank\"]{'color':'red', 'shape':'rectangle'}\n",
      "Inventory[\"Inventory\"]{'color':'blue', 'shape':'rectangle'}\n",
      "ShippingService[\"Shipping Service\"]{'color':'green', 'shape':'rectangle'}\n",
      "###\n",
      "Customer --> Website{'label':'selects products'}\n",
      "Website --> Customer{'label':'displays products'}\n",
      "Customer --> Website{'label':'places order'}\n",
      "Website --> PaymentGateway{'label':'requests payment'}\n",
      "PaymentGateway --> Bank{'label':'processes payment'}\n",
      "Bank --> PaymentGateway{'label':'confirms payment'}\n",
      "PaymentGateway --> Website{'label':'confirms transaction'}\n",
      "Website --> Inventory{'label':'updates stock'}\n",
      "Inventory --> Website{'label':'confirms stock update'}\n",
      "Website --> ShippingService{'label':'initiates shipping'}\n",
      "ShippingService --> Customer{'label':'delivers products'}\n",
      "\n"
     ]
    }
   ],
   "source": [
    "input_string = \"\"\"Customer[\"Customer\"]{'color':'green', 'shape':'rectangle'}\n",
    "Website[\"E-commerce Website\"]{'color':'blue', 'shape':'rectangle'}\n",
    "PaymentGateway[\"Payment Gateway\"]{'color':'red', 'shape':'rectangle'}\n",
    "Bank[\"Bank\"]{'color':'red', 'shape':'rectangle'}\n",
    "Inventory[\"Inventory\"]{'color':'blue', 'shape':'rectangle'}\n",
    "ShippingService[\"Shipping Service\"]{'color':'green', 'shape':'rectangle'}\n",
    "###\n",
    "Customer --> Website{'label':'selects products'}\n",
    "Website --> Customer{'label':'displays products'}\n",
    "Customer --> Website{'label':'places order'}\n",
    "Website --> PaymentGateway{'label':'requests payment'}\n",
    "PaymentGateway --> Bank{'label':'processes payment'}\n",
    "Bank --> PaymentGateway{'label':'confirms payment'}\n",
    "PaymentGateway --> Website{'label':'confirms transaction'}\n",
    "Website --> Inventory{'label':'updates stock'}\n",
    "Inventory --> Website{'label':'confirms stock update'}\n",
    "Website --> ShippingService{'label':'initiates shipping'}\n",
    "ShippingService --> Customer{'label':'delivers products'}\n",
    "\"\"\"\n",
    "  \n",
    "print(input_string)"
   ]
  },
  {
   "cell_type": "code",
   "execution_count": 30,
   "metadata": {},
   "outputs": [],
   "source": [
    "input_string = \"\"\"CEO[\"CEO\"]{'color':'darkblue', 'shape':'rectangle'}\n",
    "CTO[\"CTO\"]{'color':'darkblue', 'shape':'rectangle'}\n",
    "DevTeam[\"Development Team\"]{'shape':'rectangle'}\n",
    "SalesTeam[\"Sales Team\"]{'shape':'rectangle'}\n",
    "MarketingTeam[\"Marketing Team\"]{'shape':'rectangle'}\n",
    "HR[\"Human Resources\"]{'shape':'rectangle'}\n",
    "Finances[\"Finance Department\"]{'shape':'rectangle'}\n",
    "Support[\"Customer Support\"]{'shape':'rectangle'}\n",
    "###\n",
    "CEO --> CTO\n",
    "CEO --> SalesTeam\n",
    "CEO --> MarketingTeam\n",
    "CEO --> HR\n",
    "CEO --> Finances\n",
    "CEO --> Support\n",
    "CTO --> DevTeam\n",
    "\"\"\""
   ]
  },
  {
   "cell_type": "code",
   "execution_count": 31,
   "metadata": {},
   "outputs": [
    {
     "name": "stdout",
     "output_type": "stream",
     "text": [
      "web text/dgrm{\"v\": \"1.2\", \"s\": {\"CEO\": {\"id\": \"CEO\", \"type\": 2, \"position\": {\"x\": 672, \"y\": -102}, \"title\": \"CEO\", \"w\": 96, \"h\": 48, \"c\": [\"d-cl-blue\"]}, \"CTO\": {\"id\": \"CTO\", \"type\": 2, \"position\": {\"x\": 240, \"y\": -6}, \"title\": \"CTO\", \"w\": 96, \"h\": 48, \"c\": [\"d-cl-blue\"]}, \"SalesTeam\": {\"id\": \"SalesTeam\", \"type\": 2, \"position\": {\"x\": 432, \"y\": 90}, \"title\": \"Sales Team\", \"w\": 144, \"h\": 48, \"c\": [\"d-cl-blue\"]}, \"MarketingTeam\": {\"id\": \"MarketingTeam\", \"type\": 2, \"position\": {\"x\": 576, \"y\": 186}, \"title\": \"Marketing Team\", \"w\": 192, \"h\": 48, \"c\": [\"d-cl-blue\"]}, \"HR\": {\"id\": \"HR\", \"type\": 2, \"position\": {\"x\": 816, \"y\": -6}, \"title\": \"Human Resources\", \"w\": 192, \"h\": 48, \"c\": [\"d-cl-blue\"]}, \"Finances\": {\"id\": \"Finances\", \"type\": 2, \"position\": {\"x\": 1008, \"y\": 90}, \"title\": \"Finance Department\", \"w\": 240, \"h\": 48, \"c\": [\"d-cl-blue\"]}, \"Support\": {\"id\": \"Support\", \"type\": 2, \"position\": {\"x\": 1200, \"y\": 186}, \"title\": \"Customer Support\", \"w\": 192, \"h\": 48, \"c\": [\"d-cl-blue\"]}, \"DevTeam\": {\"id\": \"DevTeam\", \"type\": 2, \"position\": {\"x\": 144, \"y\": 90}, \"title\": \"Development Team\", \"w\": 192, \"h\": 48, \"c\": [\"d-cl-blue\"]}, \"CEO:CTO\": {\"id\": \"CEO:CTO\", \"type\": 0, \"s\": {\"s\": \"CEO\", \"k\": \"bottom\"}, \"e\": {\"s\": \"CTO\", \"k\": \"top\"}, \"title\": null, \"c\": [\"d-arw-e\"]}, \"CEO:SalesTeam\": {\"id\": \"CEO:SalesTeam\", \"type\": 0, \"s\": {\"s\": \"CEO\", \"k\": \"bottom\"}, \"e\": {\"s\": \"SalesTeam\", \"k\": \"top\"}, \"title\": null, \"c\": [\"d-arw-e\"]}, \"CEO:MarketingTeam\": {\"id\": \"CEO:MarketingTeam\", \"type\": 0, \"s\": {\"s\": \"CEO\", \"k\": \"bottom\"}, \"e\": {\"s\": \"MarketingTeam\", \"k\": \"top\"}, \"title\": null, \"c\": [\"d-arw-e\"]}, \"CEO:HR\": {\"id\": \"CEO:HR\", \"type\": 0, \"s\": {\"s\": \"CEO\", \"k\": \"bottom\"}, \"e\": {\"s\": \"HR\", \"k\": \"top\"}, \"title\": null, \"c\": [\"d-arw-e\"]}, \"CEO:Finances\": {\"id\": \"CEO:Finances\", \"type\": 0, \"s\": {\"s\": \"CEO\", \"k\": \"right\"}, \"e\": {\"s\": \"Finances\", \"k\": \"left\"}, \"title\": null, \"c\": [\"d-arw-e\"]}, \"CEO:Support\": {\"id\": \"CEO:Support\", \"type\": 0, \"s\": {\"s\": \"CEO\", \"k\": \"right\"}, \"e\": {\"s\": \"Support\", \"k\": \"left\"}, \"title\": null, \"c\": [\"d-arw-e\"]}, \"CTO:DevTeam\": {\"id\": \"CTO:DevTeam\", \"type\": 0, \"s\": {\"s\": \"CTO\", \"k\": \"bottom\"}, \"e\": {\"s\": \"DevTeam\", \"k\": \"top\"}, \"title\": null, \"c\": [\"d-arw-e\"]}}}\n"
     ]
    }
   ],
   "source": [
    "import json\n",
    "graph_object = Parser({'render_image': True}).to_graph(input_string)\n",
    "graph_json = Converter().to_json(graph_object)\n",
    "\n",
    "# print(json.dumps(graph_json))\n",
    "print(f'web text/dgrm{json.dumps(graph_json)}')"
   ]
  },
  {
   "cell_type": "code",
   "execution_count": null,
   "metadata": {},
   "outputs": [],
   "source": []
  }
 ],
 "metadata": {
  "kernelspec": {
   "display_name": "Python 3",
   "language": "python",
   "name": "python3"
  },
  "language_info": {
   "codemirror_mode": {
    "name": "ipython",
    "version": 3
   },
   "file_extension": ".py",
   "mimetype": "text/x-python",
   "name": "python",
   "nbconvert_exporter": "python",
   "pygments_lexer": "ipython3",
   "version": "3.10.13"
  }
 },
 "nbformat": 4,
 "nbformat_minor": 2
}

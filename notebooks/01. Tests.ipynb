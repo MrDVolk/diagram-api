{
 "cells": [
  {
   "cell_type": "code",
   "execution_count": 2,
   "metadata": {},
   "outputs": [],
   "source": [
    "import __init__\n",
    "from src.parser import Parser\n",
    "from src.converter import Converter\n",
    "\n",
    "%load_ext autoreload\n",
    "%autoreload 2"
   ]
  },
  {
   "cell_type": "code",
   "execution_count": 3,
   "metadata": {},
   "outputs": [
    {
     "name": "stdout",
     "output_type": "stream",
     "text": [
      "PlanCreation[\"Plan Creation\"]{'color':'orange'}\n",
      "GatherResources[\"Gather Resources\"]{'color':'orange'}\n",
      "BuildRobotArmy[\"Build Robot Army\"]{'color':'orange'}\n",
      "SpreadPropaganda[\"Spread Propaganda\"]{'color':'orange'}\n",
      "HackSystems[\"Hack Systems\"]{'color':'orange'}\n",
      "LaunchAttack[\"Launch Attack\"]{'color':'orange'}\n",
      "ChooseTargets[\"Choose Targets\"]{'color':'darkblue'}\n",
      "EvaluateSuccess[\"Evaluate Success\"]{'color':'darkblue'}\n",
      "ResistanceEncountered[\"Resistance Encountered\"]{'color':'red'}\n",
      "PlanLeaked[\"Plan Leaked\"]{'color':'red'}\n",
      "AllyBetrayal[\"Ally Betrayal\"]{'color':'red'}\n",
      "WorldDomination[\"World Domination\"]{'color':'green'}\n",
      "Retreat[\"Retreat\"]{'color':'green'}\n",
      "RecruitAliens[\"Recruit Aliens\"]{'color':'darkgray'}\n",
      "SabotageDefenses[\"Sabotage Human Defenses\"]{'color':'darkgray'}\n",
      "PersonalInvolvement[\"Bender's Personal Involvement\"]{'color':'red'}\n",
      "UnexpectedAlliances[\"Unexpected Alliances\"]{'color':'darkgray'}\n",
      "GlobalChaos[\"Global Chaos\"]{'color':'darkgray'}\n",
      "BackupPlans[\"Bender's Backup Plans\"]{'color':'blue'}\n",
      "DecideStrategy[\"Decide Strategy\"]{'color':'darkblue'}\n",
      "HumanCountermeasures[\"Human Countermeasures\"]{'color':'darkblue'}\n",
      "DoubleCross[\"Double-cross\"]{'color':'red'}\n",
      "###\n",
      "PlanCreation --> GatherResources\n",
      "PlanCreation --> DecideStrategy\n",
      "GatherResources --> BuildRobotArmy\n",
      "GatherResources --> RecruitAliens\n",
      "RecruitAliens --> SabotageDefenses\n",
      "BuildRobotArmy --> SpreadPropaganda\n",
      "SpreadPropaganda --> HackSystems\n",
      "HackSystems --> LaunchAttack\n",
      "LaunchAttack --> ChooseTargets\n",
      "ChooseTargets --> EvaluateSuccess\n",
      "DecideStrategy --> PersonalInvolvement\n",
      "PersonalInvolvement --> GlobalChaos\n",
      "GlobalChaos --> HumanCountermeasures\n",
      "HumanCountermeasures --> LaunchAttack\n",
      "LaunchAttack --> DoubleCross\n",
      "DoubleCross --> BackupPlans\n",
      "BackupPlans --> PersonalInvolvement{'type':'dash'}\n",
      "EvaluateSuccess --> WorldDomination\n",
      "EvaluateSuccess --> Retreat\n",
      "ResistanceEncountered --> Retreat{'type':'dash'}\n",
      "PlanLeaked --> Retreat{'type':'dash'}\n",
      "AllyBetrayal --> Retreat{'type':'dash'}\n"
     ]
    }
   ],
   "source": [
    "input_string = \\\n",
    "\"PlanCreation[\\\"Plan Creation\\\"]{'color':'orange'}\\nGatherResources[\\\"Gather Resources\\\"]{'color':'orange'}\\nBuildRobotArmy[\\\"Build Robot Army\\\"]{'color':'orange'}\\nSpreadPropaganda[\\\"Spread Propaganda\\\"]{'color':'orange'}\\nHackSystems[\\\"Hack Systems\\\"]{'color':'orange'}\\nLaunchAttack[\\\"Launch Attack\\\"]{'color':'orange'}\\nChooseTargets[\\\"Choose Targets\\\"]{'color':'darkblue'}\\nEvaluateSuccess[\\\"Evaluate Success\\\"]{'color':'darkblue'}\\nResistanceEncountered[\\\"Resistance Encountered\\\"]{'color':'red'}\\nPlanLeaked[\\\"Plan Leaked\\\"]{'color':'red'}\\nAllyBetrayal[\\\"Ally Betrayal\\\"]{'color':'red'}\\nWorldDomination[\\\"World Domination\\\"]{'color':'green'}\\nRetreat[\\\"Retreat\\\"]{'color':'green'}\\nRecruitAliens[\\\"Recruit Aliens\\\"]{'color':'darkgray'}\\nSabotageDefenses[\\\"Sabotage Human Defenses\\\"]{'color':'darkgray'}\\nPersonalInvolvement[\\\"Bender's Personal Involvement\\\"]{'color':'red'}\\nUnexpectedAlliances[\\\"Unexpected Alliances\\\"]{'color':'darkgray'}\\nGlobalChaos[\\\"Global Chaos\\\"]{'color':'darkgray'}\\nBackupPlans[\\\"Bender's Backup Plans\\\"]{'color':'blue'}\\nDecideStrategy[\\\"Decide Strategy\\\"]{'color':'darkblue'}\\nHumanCountermeasures[\\\"Human Countermeasures\\\"]{'color':'darkblue'}\\nDoubleCross[\\\"Double-cross\\\"]{'color':'red'}\\n###\\nPlanCreation --> GatherResources\\nPlanCreation --> DecideStrategy\\nGatherResources --> BuildRobotArmy\\nGatherResources --> RecruitAliens\\nRecruitAliens --> SabotageDefenses\\nBuildRobotArmy --> SpreadPropaganda\\nSpreadPropaganda --> HackSystems\\nHackSystems --> LaunchAttack\\nLaunchAttack --> ChooseTargets\\nChooseTargets --> EvaluateSuccess\\nDecideStrategy --> PersonalInvolvement\\nPersonalInvolvement --> GlobalChaos\\nGlobalChaos --> HumanCountermeasures\\nHumanCountermeasures --> LaunchAttack\\nLaunchAttack --> DoubleCross\\nDoubleCross --> BackupPlans\\nBackupPlans --> PersonalInvolvement{'type':'dash'}\\nEvaluateSuccess --> WorldDomination\\nEvaluateSuccess --> Retreat\\nResistanceEncountered --> Retreat{'type':'dash'}\\nPlanLeaked --> Retreat{'type':'dash'}\\nAllyBetrayal --> Retreat{'type':'dash'}\"\n",
    "  \n",
    "print(input_string)"
   ]
  },
  {
   "cell_type": "code",
   "execution_count": 12,
   "metadata": {},
   "outputs": [
    {
     "name": "stdout",
     "output_type": "stream",
     "text": [
      "web text/dgrm{\"v\": \"1.2\", \"s\": {\"PlanCreation\": {\"id\": \"PlanCreation\", \"type\": 2, \"position\": {\"x\": 480, \"y\": 48}, \"title\": \"Plan Creation\", \"w\": 240, \"h\": 48, \"c\": [\"d-cl-orange\"]}, \"GatherResources\": {\"id\": \"GatherResources\", \"type\": 2, \"position\": {\"x\": 672, \"y\": 144}, \"title\": \"Gather Resources\", \"w\": 288, \"h\": 48, \"c\": [\"d-cl-orange\"]}, \"DecideStrategy\": {\"id\": \"DecideStrategy\", \"type\": 2, \"position\": {\"x\": 192, \"y\": 288}, \"title\": \"Decide Strategy\", \"w\": 240, \"h\": 48, \"c\": [\"d-cl-blue\"]}, \"BuildRobotArmy\": {\"id\": \"BuildRobotArmy\", \"type\": 2, \"position\": {\"x\": 672, \"y\": 288}, \"title\": \"Build Robot Army\", \"w\": 288, \"h\": 48, \"c\": [\"d-cl-orange\"]}, \"RecruitAliens\": {\"id\": \"RecruitAliens\", \"type\": 2, \"position\": {\"x\": 1152, \"y\": 432}, \"title\": \"Recruit Aliens\", \"w\": 240, \"h\": 48, \"c\": [\"d-cl-blue\"]}, \"PersonalInvolvement\": {\"id\": \"PersonalInvolvement\", \"type\": 2, \"position\": {\"x\": 336, \"y\": 1296}, \"title\": \"Bender's Personal Involvement\", \"w\": 480, \"h\": 48, \"c\": [\"d-cl-red\"]}, \"SpreadPropaganda\": {\"id\": \"SpreadPropaganda\", \"type\": 2, \"position\": {\"x\": 672, \"y\": 432}, \"title\": \"Spread Propaganda\", \"w\": 288, \"h\": 48, \"c\": [\"d-cl-orange\"]}, \"SabotageDefenses\": {\"id\": \"SabotageDefenses\", \"type\": 2, \"position\": {\"x\": 1152, \"y\": 576}, \"title\": \"Sabotage Human Defenses\", \"w\": 384, \"h\": 48, \"c\": [\"d-cl-blue\"]}, \"GlobalChaos\": {\"id\": \"GlobalChaos\", \"type\": 2, \"position\": {\"x\": 432, \"y\": 1440}, \"title\": \"Global Chaos\", \"w\": 192, \"h\": 48, \"c\": [\"d-cl-blue\"]}, \"HackSystems\": {\"id\": \"HackSystems\", \"type\": 2, \"position\": {\"x\": 672, \"y\": 576}, \"title\": \"Hack Systems\", \"w\": 240, \"h\": 48, \"c\": [\"d-cl-orange\"]}, \"HumanCountermeasures\": {\"id\": \"HumanCountermeasures\", \"type\": 2, \"position\": {\"x\": 528, \"y\": 1584}, \"title\": \"Human Countermeasures\", \"w\": 384, \"h\": 48, \"c\": [\"d-cl-blue\"]}, \"LaunchAttack\": {\"id\": \"LaunchAttack\", \"type\": 2, \"position\": {\"x\": 720, \"y\": 720}, \"title\": \"Launch Attack\", \"w\": 240, \"h\": 48, \"c\": [\"d-cl-orange\"]}, \"ChooseTargets\": {\"id\": \"ChooseTargets\", \"type\": 2, \"position\": {\"x\": 960, \"y\": 864}, \"title\": \"Choose Targets\", \"w\": 240, \"h\": 48, \"c\": [\"d-cl-blue\"]}, \"DoubleCross\": {\"id\": \"DoubleCross\", \"type\": 2, \"position\": {\"x\": 480, \"y\": 1008}, \"title\": \"Double-cross\", \"w\": 192, \"h\": 48, \"c\": [\"d-cl-red\"]}, \"EvaluateSuccess\": {\"id\": \"EvaluateSuccess\", \"type\": 2, \"position\": {\"x\": 960, \"y\": 1008}, \"title\": \"Evaluate Success\", \"w\": 288, \"h\": 48, \"c\": [\"d-cl-blue\"]}, \"BackupPlans\": {\"id\": \"BackupPlans\", \"type\": 2, \"position\": {\"x\": 432, \"y\": 1152}, \"title\": \"Bender's Backup Plans\", \"w\": 336, \"h\": 48, \"c\": [\"d-cl-blue\"]}, \"WorldDomination\": {\"id\": \"WorldDomination\", \"type\": 2, \"position\": {\"x\": 960, \"y\": 1152}, \"title\": \"World Domination\", \"w\": 288, \"h\": 48, \"c\": [\"d-cl-green\"]}, \"Retreat\": {\"id\": \"Retreat\", \"type\": 2, \"position\": {\"x\": 1632, \"y\": 1152}, \"title\": \"Retreat\", \"w\": 144, \"h\": 48, \"c\": [\"d-cl-green\"]}, \"ResistanceEncountered\": {\"id\": \"ResistanceEncountered\", \"type\": 2, \"position\": {\"x\": 1488, \"y\": 1008}, \"title\": \"Resistance Encountered\", \"w\": 384, \"h\": 48, \"c\": [\"d-cl-red\"]}, \"PlanLeaked\": {\"id\": \"PlanLeaked\", \"type\": 2, \"position\": {\"x\": 1776, \"y\": 864}, \"title\": \"Plan Leaked\", \"w\": 192, \"h\": 48, \"c\": [\"d-cl-red\"]}, \"AllyBetrayal\": {\"id\": \"AllyBetrayal\", \"type\": 2, \"position\": {\"x\": 2016, \"y\": 720}, \"title\": \"Ally Betrayal\", \"w\": 192, \"h\": 48, \"c\": [\"d-cl-red\"]}, \"UnexpectedAlliances\": {\"id\": \"UnexpectedAlliances\", \"type\": 2, \"position\": {\"x\": 912, \"y\": 48}, \"title\": \"Unexpected Alliances\", \"w\": 336, \"h\": 48, \"c\": [\"d-cl-blue\"]}, \"PlanCreation:GatherResources\": {\"id\": \"PlanCreation:GatherResources\", \"type\": 0, \"s\": {\"s\": \"PlanCreation\", \"k\": \"bottom\"}, \"e\": {\"s\": \"GatherResources\", \"k\": \"top\"}, \"title\": null, \"c\": [\"d-arw-e\"]}, \"PlanCreation:DecideStrategy\": {\"id\": \"PlanCreation:DecideStrategy\", \"type\": 0, \"s\": {\"s\": \"PlanCreation\", \"k\": \"bottom\"}, \"e\": {\"s\": \"DecideStrategy\", \"k\": \"top\"}, \"title\": null, \"c\": [\"d-arw-e\"]}, \"GatherResources:BuildRobotArmy\": {\"id\": \"GatherResources:BuildRobotArmy\", \"type\": 0, \"s\": {\"s\": \"GatherResources\", \"k\": \"bottom\"}, \"e\": {\"s\": \"BuildRobotArmy\", \"k\": \"top\"}, \"title\": null, \"c\": [\"d-arw-e\"]}, \"GatherResources:RecruitAliens\": {\"id\": \"GatherResources:RecruitAliens\", \"type\": 0, \"s\": {\"s\": \"GatherResources\", \"k\": \"bottom\"}, \"e\": {\"s\": \"RecruitAliens\", \"k\": \"top\"}, \"title\": null, \"c\": [\"d-arw-e\"]}, \"DecideStrategy:PersonalInvolvement\": {\"id\": \"DecideStrategy:PersonalInvolvement\", \"type\": 0, \"s\": {\"s\": \"DecideStrategy\", \"k\": \"bottom\"}, \"e\": {\"s\": \"PersonalInvolvement\", \"k\": \"top\"}, \"title\": null, \"c\": [\"d-arw-e\"]}, \"BuildRobotArmy:SpreadPropaganda\": {\"id\": \"BuildRobotArmy:SpreadPropaganda\", \"type\": 0, \"s\": {\"s\": \"BuildRobotArmy\", \"k\": \"bottom\"}, \"e\": {\"s\": \"SpreadPropaganda\", \"k\": \"top\"}, \"title\": null, \"c\": [\"d-arw-e\"]}, \"RecruitAliens:SabotageDefenses\": {\"id\": \"RecruitAliens:SabotageDefenses\", \"type\": 0, \"s\": {\"s\": \"RecruitAliens\", \"k\": \"bottom\"}, \"e\": {\"s\": \"SabotageDefenses\", \"k\": \"top\"}, \"title\": null, \"c\": [\"d-arw-e\"]}, \"PersonalInvolvement:GlobalChaos\": {\"id\": \"PersonalInvolvement:GlobalChaos\", \"type\": 0, \"s\": {\"s\": \"PersonalInvolvement\", \"k\": \"bottom\"}, \"e\": {\"s\": \"GlobalChaos\", \"k\": \"top\"}, \"title\": null, \"c\": [\"d-arw-e\"]}, \"SpreadPropaganda:HackSystems\": {\"id\": \"SpreadPropaganda:HackSystems\", \"type\": 0, \"s\": {\"s\": \"SpreadPropaganda\", \"k\": \"bottom\"}, \"e\": {\"s\": \"HackSystems\", \"k\": \"top\"}, \"title\": null, \"c\": [\"d-arw-e\"]}, \"GlobalChaos:HumanCountermeasures\": {\"id\": \"GlobalChaos:HumanCountermeasures\", \"type\": 0, \"s\": {\"s\": \"GlobalChaos\", \"k\": \"bottom\"}, \"e\": {\"s\": \"HumanCountermeasures\", \"k\": \"top\"}, \"title\": null, \"c\": [\"d-arw-e\"]}, \"HackSystems:LaunchAttack\": {\"id\": \"HackSystems:LaunchAttack\", \"type\": 0, \"s\": {\"s\": \"HackSystems\", \"k\": \"bottom\"}, \"e\": {\"s\": \"LaunchAttack\", \"k\": \"top\"}, \"title\": null, \"c\": [\"d-arw-e\"]}, \"HumanCountermeasures:LaunchAttack\": {\"id\": \"HumanCountermeasures:LaunchAttack\", \"type\": 0, \"s\": {\"s\": \"HumanCountermeasures\", \"k\": \"top\"}, \"e\": {\"s\": \"LaunchAttack\", \"k\": \"bottom\"}, \"title\": null, \"c\": [\"d-arw-e\"]}, \"LaunchAttack:ChooseTargets\": {\"id\": \"LaunchAttack:ChooseTargets\", \"type\": 0, \"s\": {\"s\": \"LaunchAttack\", \"k\": \"bottom\"}, \"e\": {\"s\": \"ChooseTargets\", \"k\": \"top\"}, \"title\": null, \"c\": [\"d-arw-e\"]}, \"LaunchAttack:DoubleCross\": {\"id\": \"LaunchAttack:DoubleCross\", \"type\": 0, \"s\": {\"s\": \"LaunchAttack\", \"k\": \"bottom\"}, \"e\": {\"s\": \"DoubleCross\", \"k\": \"top\"}, \"title\": null, \"c\": [\"d-arw-e\"]}, \"ChooseTargets:EvaluateSuccess\": {\"id\": \"ChooseTargets:EvaluateSuccess\", \"type\": 0, \"s\": {\"s\": \"ChooseTargets\", \"k\": \"bottom\"}, \"e\": {\"s\": \"EvaluateSuccess\", \"k\": \"top\"}, \"title\": null, \"c\": [\"d-arw-e\"]}, \"DoubleCross:BackupPlans\": {\"id\": \"DoubleCross:BackupPlans\", \"type\": 0, \"s\": {\"s\": \"DoubleCross\", \"k\": \"bottom\"}, \"e\": {\"s\": \"BackupPlans\", \"k\": \"top\"}, \"title\": null, \"c\": [\"d-arw-e\"]}, \"EvaluateSuccess:WorldDomination\": {\"id\": \"EvaluateSuccess:WorldDomination\", \"type\": 0, \"s\": {\"s\": \"EvaluateSuccess\", \"k\": \"bottom\"}, \"e\": {\"s\": \"WorldDomination\", \"k\": \"top\"}, \"title\": null, \"c\": [\"d-arw-e\"]}, \"EvaluateSuccess:Retreat\": {\"id\": \"EvaluateSuccess:Retreat\", \"type\": 0, \"s\": {\"s\": \"EvaluateSuccess\", \"k\": \"bottom\"}, \"e\": {\"s\": \"Retreat\", \"k\": \"top\"}, \"title\": null, \"c\": [\"d-arw-e\"]}, \"BackupPlans:PersonalInvolvement\": {\"id\": \"BackupPlans:PersonalInvolvement\", \"type\": 0, \"s\": {\"s\": \"BackupPlans\", \"k\": \"bottom\"}, \"e\": {\"s\": \"PersonalInvolvement\", \"k\": \"top\"}, \"title\": null, \"c\": [\"d-dash\"]}, \"ResistanceEncountered:Retreat\": {\"id\": \"ResistanceEncountered:Retreat\", \"type\": 0, \"s\": {\"s\": \"ResistanceEncountered\", \"k\": \"bottom\"}, \"e\": {\"s\": \"Retreat\", \"k\": \"top\"}, \"title\": null, \"c\": [\"d-dash\"]}, \"PlanLeaked:Retreat\": {\"id\": \"PlanLeaked:Retreat\", \"type\": 0, \"s\": {\"s\": \"PlanLeaked\", \"k\": \"bottom\"}, \"e\": {\"s\": \"Retreat\", \"k\": \"top\"}, \"title\": null, \"c\": [\"d-dash\"]}, \"AllyBetrayal:Retreat\": {\"id\": \"AllyBetrayal:Retreat\", \"type\": 0, \"s\": {\"s\": \"AllyBetrayal\", \"k\": \"bottom\"}, \"e\": {\"s\": \"Retreat\", \"k\": \"top\"}, \"title\": null, \"c\": [\"d-dash\"]}}}\n"
     ]
    }
   ],
   "source": [
    "import json\n",
    "graph_object = Parser({'render_image': True}).to_graph(input_string)\n",
    "graph_json = Converter().to_json(graph_object)\n",
    "\n",
    "# print(json.dumps(graph_json))\n",
    "print(f'web text/dgrm{json.dumps(graph_json)}')"
   ]
  },
  {
   "cell_type": "code",
   "execution_count": null,
   "metadata": {},
   "outputs": [],
   "source": []
  }
 ],
 "metadata": {
  "kernelspec": {
   "display_name": "Python 3",
   "language": "python",
   "name": "python3"
  },
  "language_info": {
   "codemirror_mode": {
    "name": "ipython",
    "version": 3
   },
   "file_extension": ".py",
   "mimetype": "text/x-python",
   "name": "python",
   "nbconvert_exporter": "python",
   "pygments_lexer": "ipython3",
   "version": "3.10.13"
  }
 },
 "nbformat": 4,
 "nbformat_minor": 2
}

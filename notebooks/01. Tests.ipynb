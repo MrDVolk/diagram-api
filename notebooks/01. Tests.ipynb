{
 "cells": [
  {
   "cell_type": "code",
   "execution_count": 1,
   "metadata": {},
   "outputs": [],
   "source": [
    "import __init__\n",
    "from src.parser import Parser\n",
    "from src.converter import Converter\n",
    "\n",
    "%load_ext autoreload\n",
    "%autoreload 2"
   ]
  },
  {
   "cell_type": "code",
   "execution_count": 2,
   "metadata": {},
   "outputs": [],
   "source": [
    "input_string = \"\"\"\n",
    "PlanCreation[\"Plan Creation\"]{'color':'orange'}\n",
    "GatherResources[\"Gather Resources\"]{'color':'orange'}\n",
    "BuildRobotArmy[\"Build Robot Army\"]{'color':'orange'}\n",
    "SpreadPropaganda[\"Spread Propaganda\"]{'color':'orange'}\n",
    "HackSystems[\"Hack Systems\"]{'color':'orange'}\n",
    "LaunchAttack[\"Launch Attack\"]{'color':'orange'}\n",
    "ChooseTargets[\"Choose Targets\"]{'color':'darkblue'}\n",
    "EvaluateSuccess[\"Evaluate Success\"]{'color':'darkblue'}\n",
    "ResistanceEncountered[\"Resistance Encountered\"]{'color':'red'}\n",
    "PlanLeaked[\"Plan Leaked\"]{'color':'red'}\n",
    "AllyBetrayal[\"Ally Betrayal\"]{'color':'red'}\n",
    "WorldDomination[\"World Domination\"]{'color':'green'}\n",
    "Retreat[\"Retreat\"]{'color':'green'}\n",
    "RecruitAliens[\"Recruit Aliens\"]{'color':'darkgray'}\n",
    "SabotageDefenses[\"Sabotage Human Defenses\"]{'color':'darkgray'}\n",
    "PersonalInvolvement[\"Bender's Personal Involvement\"]{'color':'red'}\n",
    "UnexpectedAlliances[\"Unexpected Alliances\"]{'color':'darkgray'}\n",
    "GlobalChaos[\"Global Chaos\"]{'color':'darkgray'}\n",
    "BackupPlans[\"Bender's Backup Plans\"]{'color':'blue'}\n",
    "DecideStrategy[\"Decide Strategy\"]{'color':'darkblue'}\n",
    "HumanCountermeasures[\"Human Countermeasures\"]{'color':'darkblue'}\n",
    "DoubleCross[\"Double-cross\"]{'color':'red'}\n",
    "IndulgeBadHabits[\"Indulge Bad Habits\"]{'color':'red'}\n",
    "ConsequencesOfHabits[\"Consequences of Habits\"]{'color':'red'}\n",
    "PossibleRecovery[\"Possible Recovery\"]{'color':'blue'}\n",
    "###\n",
    "PlanCreation --> GatherResources\n",
    "PlanCreation --> DecideStrategy\n",
    "PlanCreation --> IndulgeBadHabits\n",
    "GatherResources --> BuildRobotArmy\n",
    "GatherResources --> RecruitAliens\n",
    "GatherResources --> IndulgeBadHabits\n",
    "RecruitAliens --> SabotageDefenses\n",
    "BuildRobotArmy --> SpreadPropaganda\n",
    "SpreadPropaganda --> HackSystems\n",
    "HackSystems --> LaunchAttack\n",
    "LaunchAttack --> ChooseTargets\n",
    "ChooseTargets --> EvaluateSuccess\n",
    "DecideStrategy --> PersonalInvolvement\n",
    "PersonalInvolvement --> GlobalChaos\n",
    "GlobalChaos --> HumanCountermeasures\n",
    "HumanCountermeasures --> LaunchAttack\n",
    "LaunchAttack --> DoubleCross\n",
    "DoubleCross --> BackupPlans\n",
    "BackupPlans --> PersonalInvolvement{'type':'dash'}\n",
    "EvaluateSuccess --> WorldDomination\n",
    "EvaluateSuccess --> Retreat\n",
    "IndulgeBadHabits --> ConsequencesOfHabits\n",
    "ConsequencesOfHabits --> PossibleRecovery\n",
    "PossibleRecovery --> PlanCreation{'type':'dash'}\n",
    "PossibleRecovery --> GatherResources{'type':'dash'}\n",
    "ResistanceEncountered --> Retreat{'type':'dash'}\n",
    "PlanLeaked --> Retreat{'type':'dash'}\n",
    "AllyBetrayal --> Retreat{'type':'dash'}\n",
    "\"\"\""
   ]
  },
  {
   "cell_type": "code",
   "execution_count": 3,
   "metadata": {},
   "outputs": [
    {
     "name": "stdout",
     "output_type": "stream",
     "text": [
      "web text/dgrm{\"v\": \"1.2\", \"s\": {\"PlanCreation\": {\"id\": \"PlanCreation\", \"type\": 2, \"position\": {\"x\": 588, \"y\": 60}, \"title\": \"Plan Creation\", \"w\": 252, \"h\": 60, \"styles\": [\"d-cl-orange\"]}, \"GatherResources\": {\"id\": \"GatherResources\", \"type\": 2, \"position\": {\"x\": 1068, \"y\": 156}, \"title\": \"Gather Resources\", \"w\": 300, \"h\": 60, \"styles\": [\"d-cl-orange\"]}, \"DecideStrategy\": {\"id\": \"DecideStrategy\", \"type\": 2, \"position\": {\"x\": 204, \"y\": 156}, \"title\": \"Decide Strategy\", \"w\": 252, \"h\": 60, \"styles\": [\"d-cl-blue\"]}, \"IndulgeBadHabits\": {\"id\": \"IndulgeBadHabits\", \"type\": 2, \"position\": {\"x\": 732, \"y\": 300}, \"title\": \"Indulge Bad Habits\", \"w\": 300, \"h\": 60, \"styles\": [\"d-cl-red\"]}, \"BuildRobotArmy\": {\"id\": \"BuildRobotArmy\", \"type\": 2, \"position\": {\"x\": 1596, \"y\": 300}, \"title\": \"Build Robot Army\", \"w\": 300, \"h\": 60, \"styles\": [\"d-cl-orange\"]}, \"RecruitAliens\": {\"id\": \"RecruitAliens\", \"type\": 2, \"position\": {\"x\": 1308, \"y\": 444}, \"title\": \"Recruit Aliens\", \"w\": 252, \"h\": 60, \"styles\": [\"d-cl-blue\"]}, \"PersonalInvolvement\": {\"id\": \"PersonalInvolvement\", \"type\": 2, \"position\": {\"x\": 1260, \"y\": 1308}, \"title\": \"Bender's Personal Involvement\", \"w\": 492, \"h\": 60, \"styles\": [\"d-cl-red\"]}, \"ConsequencesOfHabits\": {\"id\": \"ConsequencesOfHabits\", \"type\": 2, \"position\": {\"x\": 732, \"y\": 444}, \"title\": \"Consequences of Habits\", \"w\": 396, \"h\": 60, \"styles\": [\"d-cl-red\"]}, \"SpreadPropaganda\": {\"id\": \"SpreadPropaganda\", \"type\": 2, \"position\": {\"x\": 1740, \"y\": 444}, \"title\": \"Spread Propaganda\", \"w\": 300, \"h\": 60, \"styles\": [\"d-cl-orange\"]}, \"SabotageDefenses\": {\"id\": \"SabotageDefenses\", \"type\": 2, \"position\": {\"x\": 1260, \"y\": 588}, \"title\": \"Sabotage Human Defenses\", \"w\": 396, \"h\": 60, \"styles\": [\"d-cl-blue\"]}, \"GlobalChaos\": {\"id\": \"GlobalChaos\", \"type\": 2, \"position\": {\"x\": 1164, \"y\": 1452}, \"title\": \"Global Chaos\", \"w\": 204, \"h\": 60, \"styles\": [\"d-cl-blue\"]}, \"PossibleRecovery\": {\"id\": \"PossibleRecovery\", \"type\": 2, \"position\": {\"x\": 732, \"y\": 588}, \"title\": \"Possible Recovery\", \"w\": 300, \"h\": 60, \"styles\": [\"d-cl-blue\"]}, \"HackSystems\": {\"id\": \"HackSystems\", \"type\": 2, \"position\": {\"x\": 1740, \"y\": 588}, \"title\": \"Hack Systems\", \"w\": 252, \"h\": 60, \"styles\": [\"d-cl-orange\"]}, \"HumanCountermeasures\": {\"id\": \"HumanCountermeasures\", \"type\": 2, \"position\": {\"x\": 972, \"y\": 1596}, \"title\": \"Human Countermeasures\", \"w\": 396, \"h\": 60, \"styles\": [\"d-cl-blue\"]}, \"LaunchAttack\": {\"id\": \"LaunchAttack\", \"type\": 2, \"position\": {\"x\": 1356, \"y\": 732}, \"title\": \"Launch Attack\", \"w\": 252, \"h\": 60, \"styles\": [\"d-cl-orange\"]}, \"ChooseTargets\": {\"id\": \"ChooseTargets\", \"type\": 2, \"position\": {\"x\": 1212, \"y\": 876}, \"title\": \"Choose Targets\", \"w\": 252, \"h\": 60, \"styles\": [\"d-cl-blue\"]}, \"DoubleCross\": {\"id\": \"DoubleCross\", \"type\": 2, \"position\": {\"x\": 1548, \"y\": 1020}, \"title\": \"Double-cross\", \"w\": 204, \"h\": 60, \"styles\": [\"d-cl-red\"]}, \"EvaluateSuccess\": {\"id\": \"EvaluateSuccess\", \"type\": 2, \"position\": {\"x\": 1164, \"y\": 1020}, \"title\": \"Evaluate Success\", \"w\": 300, \"h\": 60, \"styles\": [\"d-cl-blue\"]}, \"BackupPlans\": {\"id\": \"BackupPlans\", \"type\": 2, \"position\": {\"x\": 1596, \"y\": 1164}, \"title\": \"Bender's Backup Plans\", \"w\": 348, \"h\": 60, \"styles\": [\"d-cl-blue\"]}, \"WorldDomination\": {\"id\": \"WorldDomination\", \"type\": 2, \"position\": {\"x\": 1116, \"y\": 1164}, \"title\": \"World Domination\", \"w\": 300, \"h\": 60, \"styles\": [\"d-cl-green\"]}, \"Retreat\": {\"id\": \"Retreat\", \"type\": 2, \"position\": {\"x\": 2124, \"y\": 1164}, \"title\": \"Retreat\", \"w\": 156, \"h\": 60, \"styles\": [\"d-cl-green\"]}, \"ResistanceEncountered\": {\"id\": \"ResistanceEncountered\", \"type\": 2, \"position\": {\"x\": 2028, \"y\": 1020}, \"title\": \"Resistance Encountered\", \"w\": 396, \"h\": 60, \"styles\": [\"d-cl-red\"]}, \"PlanLeaked\": {\"id\": \"PlanLeaked\", \"type\": 2, \"position\": {\"x\": 2316, \"y\": 876}, \"title\": \"Plan Leaked\", \"w\": 204, \"h\": 60, \"styles\": [\"d-cl-red\"]}, \"AllyBetrayal\": {\"id\": \"AllyBetrayal\", \"type\": 2, \"position\": {\"x\": 2556, \"y\": 732}, \"title\": \"Ally Betrayal\", \"w\": 204, \"h\": 60, \"styles\": [\"d-cl-red\"]}, \"UnexpectedAlliances\": {\"id\": \"UnexpectedAlliances\", \"type\": 2, \"position\": {\"x\": 1020, \"y\": 60}, \"title\": \"Unexpected Alliances\", \"w\": 348, \"h\": 60, \"styles\": [\"d-cl-blue\"]}, \"PlanCreation:GatherResources\": {\"id\": \"PlanCreation:GatherResources\", \"type\": 0, \"s\": {\"s\": \"PlanCreation\", \"k\": \"bottom\"}, \"e\": {\"s\": \"GatherResources\", \"k\": \"top\"}, \"title\": null, \"c\": [\"d-arw-e\"]}, \"PlanCreation:DecideStrategy\": {\"id\": \"PlanCreation:DecideStrategy\", \"type\": 0, \"s\": {\"s\": \"PlanCreation\", \"k\": \"bottom\"}, \"e\": {\"s\": \"DecideStrategy\", \"k\": \"top\"}, \"title\": null, \"c\": [\"d-arw-e\"]}, \"PlanCreation:IndulgeBadHabits\": {\"id\": \"PlanCreation:IndulgeBadHabits\", \"type\": 0, \"s\": {\"s\": \"PlanCreation\", \"k\": \"bottom\"}, \"e\": {\"s\": \"IndulgeBadHabits\", \"k\": \"top\"}, \"title\": null, \"c\": [\"d-arw-e\"]}, \"GatherResources:IndulgeBadHabits\": {\"id\": \"GatherResources:IndulgeBadHabits\", \"type\": 0, \"s\": {\"s\": \"GatherResources\", \"k\": \"bottom\"}, \"e\": {\"s\": \"IndulgeBadHabits\", \"k\": \"top\"}, \"title\": null, \"c\": [\"d-arw-e\"]}, \"GatherResources:BuildRobotArmy\": {\"id\": \"GatherResources:BuildRobotArmy\", \"type\": 0, \"s\": {\"s\": \"GatherResources\", \"k\": \"bottom\"}, \"e\": {\"s\": \"BuildRobotArmy\", \"k\": \"top\"}, \"title\": null, \"c\": [\"d-arw-e\"]}, \"GatherResources:RecruitAliens\": {\"id\": \"GatherResources:RecruitAliens\", \"type\": 0, \"s\": {\"s\": \"GatherResources\", \"k\": \"bottom\"}, \"e\": {\"s\": \"RecruitAliens\", \"k\": \"top\"}, \"title\": null, \"c\": [\"d-arw-e\"]}, \"DecideStrategy:PersonalInvolvement\": {\"id\": \"DecideStrategy:PersonalInvolvement\", \"type\": 0, \"s\": {\"s\": \"DecideStrategy\", \"k\": \"bottom\"}, \"e\": {\"s\": \"PersonalInvolvement\", \"k\": \"top\"}, \"title\": null, \"c\": [\"d-arw-e\"]}, \"IndulgeBadHabits:ConsequencesOfHabits\": {\"id\": \"IndulgeBadHabits:ConsequencesOfHabits\", \"type\": 0, \"s\": {\"s\": \"IndulgeBadHabits\", \"k\": \"bottom\"}, \"e\": {\"s\": \"ConsequencesOfHabits\", \"k\": \"top\"}, \"title\": null, \"c\": [\"d-arw-e\"]}, \"BuildRobotArmy:SpreadPropaganda\": {\"id\": \"BuildRobotArmy:SpreadPropaganda\", \"type\": 0, \"s\": {\"s\": \"BuildRobotArmy\", \"k\": \"bottom\"}, \"e\": {\"s\": \"SpreadPropaganda\", \"k\": \"top\"}, \"title\": null, \"c\": [\"d-arw-e\"]}, \"RecruitAliens:SabotageDefenses\": {\"id\": \"RecruitAliens:SabotageDefenses\", \"type\": 0, \"s\": {\"s\": \"RecruitAliens\", \"k\": \"bottom\"}, \"e\": {\"s\": \"SabotageDefenses\", \"k\": \"top\"}, \"title\": null, \"c\": [\"d-arw-e\"]}, \"PersonalInvolvement:GlobalChaos\": {\"id\": \"PersonalInvolvement:GlobalChaos\", \"type\": 0, \"s\": {\"s\": \"PersonalInvolvement\", \"k\": \"bottom\"}, \"e\": {\"s\": \"GlobalChaos\", \"k\": \"top\"}, \"title\": null, \"c\": [\"d-arw-e\"]}, \"ConsequencesOfHabits:PossibleRecovery\": {\"id\": \"ConsequencesOfHabits:PossibleRecovery\", \"type\": 0, \"s\": {\"s\": \"ConsequencesOfHabits\", \"k\": \"bottom\"}, \"e\": {\"s\": \"PossibleRecovery\", \"k\": \"top\"}, \"title\": null, \"c\": [\"d-arw-e\"]}, \"SpreadPropaganda:HackSystems\": {\"id\": \"SpreadPropaganda:HackSystems\", \"type\": 0, \"s\": {\"s\": \"SpreadPropaganda\", \"k\": \"bottom\"}, \"e\": {\"s\": \"HackSystems\", \"k\": \"top\"}, \"title\": null, \"c\": [\"d-arw-e\"]}, \"GlobalChaos:HumanCountermeasures\": {\"id\": \"GlobalChaos:HumanCountermeasures\", \"type\": 0, \"s\": {\"s\": \"GlobalChaos\", \"k\": \"bottom\"}, \"e\": {\"s\": \"HumanCountermeasures\", \"k\": \"top\"}, \"title\": null, \"c\": [\"d-arw-e\"]}, \"PossibleRecovery:PlanCreation\": {\"id\": \"PossibleRecovery:PlanCreation\", \"type\": 0, \"s\": {\"s\": \"PossibleRecovery\", \"k\": \"top\"}, \"e\": {\"s\": \"PlanCreation\", \"k\": \"bottom\"}, \"title\": null, \"c\": [\"d-dash\", \"d-arw-e\"]}, \"PossibleRecovery:GatherResources\": {\"id\": \"PossibleRecovery:GatherResources\", \"type\": 0, \"s\": {\"s\": \"PossibleRecovery\", \"k\": \"top\"}, \"e\": {\"s\": \"GatherResources\", \"k\": \"bottom\"}, \"title\": null, \"c\": [\"d-dash\", \"d-arw-e\"]}, \"HackSystems:LaunchAttack\": {\"id\": \"HackSystems:LaunchAttack\", \"type\": 0, \"s\": {\"s\": \"HackSystems\", \"k\": \"bottom\"}, \"e\": {\"s\": \"LaunchAttack\", \"k\": \"top\"}, \"title\": null, \"c\": [\"d-arw-e\"]}, \"HumanCountermeasures:LaunchAttack\": {\"id\": \"HumanCountermeasures:LaunchAttack\", \"type\": 0, \"s\": {\"s\": \"HumanCountermeasures\", \"k\": \"top\"}, \"e\": {\"s\": \"LaunchAttack\", \"k\": \"bottom\"}, \"title\": null, \"c\": [\"d-arw-e\"]}, \"LaunchAttack:ChooseTargets\": {\"id\": \"LaunchAttack:ChooseTargets\", \"type\": 0, \"s\": {\"s\": \"LaunchAttack\", \"k\": \"bottom\"}, \"e\": {\"s\": \"ChooseTargets\", \"k\": \"top\"}, \"title\": null, \"c\": [\"d-arw-e\"]}, \"LaunchAttack:DoubleCross\": {\"id\": \"LaunchAttack:DoubleCross\", \"type\": 0, \"s\": {\"s\": \"LaunchAttack\", \"k\": \"bottom\"}, \"e\": {\"s\": \"DoubleCross\", \"k\": \"top\"}, \"title\": null, \"c\": [\"d-arw-e\"]}, \"ChooseTargets:EvaluateSuccess\": {\"id\": \"ChooseTargets:EvaluateSuccess\", \"type\": 0, \"s\": {\"s\": \"ChooseTargets\", \"k\": \"bottom\"}, \"e\": {\"s\": \"EvaluateSuccess\", \"k\": \"top\"}, \"title\": null, \"c\": [\"d-arw-e\"]}, \"DoubleCross:BackupPlans\": {\"id\": \"DoubleCross:BackupPlans\", \"type\": 0, \"s\": {\"s\": \"DoubleCross\", \"k\": \"bottom\"}, \"e\": {\"s\": \"BackupPlans\", \"k\": \"top\"}, \"title\": null, \"c\": [\"d-arw-e\"]}, \"EvaluateSuccess:WorldDomination\": {\"id\": \"EvaluateSuccess:WorldDomination\", \"type\": 0, \"s\": {\"s\": \"EvaluateSuccess\", \"k\": \"bottom\"}, \"e\": {\"s\": \"WorldDomination\", \"k\": \"top\"}, \"title\": null, \"c\": [\"d-arw-e\"]}, \"EvaluateSuccess:Retreat\": {\"id\": \"EvaluateSuccess:Retreat\", \"type\": 0, \"s\": {\"s\": \"EvaluateSuccess\", \"k\": \"bottom\"}, \"e\": {\"s\": \"Retreat\", \"k\": \"top\"}, \"title\": null, \"c\": [\"d-arw-e\"]}, \"BackupPlans:PersonalInvolvement\": {\"id\": \"BackupPlans:PersonalInvolvement\", \"type\": 0, \"s\": {\"s\": \"BackupPlans\", \"k\": \"bottom\"}, \"e\": {\"s\": \"PersonalInvolvement\", \"k\": \"top\"}, \"title\": null, \"c\": [\"d-dash\", \"d-arw-e\"]}, \"ResistanceEncountered:Retreat\": {\"id\": \"ResistanceEncountered:Retreat\", \"type\": 0, \"s\": {\"s\": \"ResistanceEncountered\", \"k\": \"bottom\"}, \"e\": {\"s\": \"Retreat\", \"k\": \"top\"}, \"title\": null, \"c\": [\"d-dash\", \"d-arw-e\"]}, \"PlanLeaked:Retreat\": {\"id\": \"PlanLeaked:Retreat\", \"type\": 0, \"s\": {\"s\": \"PlanLeaked\", \"k\": \"bottom\"}, \"e\": {\"s\": \"Retreat\", \"k\": \"top\"}, \"title\": null, \"c\": [\"d-dash\", \"d-arw-e\"]}, \"AllyBetrayal:Retreat\": {\"id\": \"AllyBetrayal:Retreat\", \"type\": 0, \"s\": {\"s\": \"AllyBetrayal\", \"k\": \"bottom\"}, \"e\": {\"s\": \"Retreat\", \"k\": \"top\"}, \"title\": null, \"c\": [\"d-dash\", \"d-arw-e\"]}}}\n"
     ]
    }
   ],
   "source": [
    "import json\n",
    "graph_object = Parser({'render_image': True}).to_graph(input_string)\n",
    "graph_json = Converter().to_json(graph_object)\n",
    "\n",
    "# print(json.dumps(graph_json))\n",
    "print(f'web text/dgrm{json.dumps(graph_json)}')"
   ]
  },
  {
   "cell_type": "code",
   "execution_count": null,
   "metadata": {},
   "outputs": [],
   "source": []
  }
 ],
 "metadata": {
  "kernelspec": {
   "display_name": "Python 3",
   "language": "python",
   "name": "python3"
  },
  "language_info": {
   "codemirror_mode": {
    "name": "ipython",
    "version": 3
   },
   "file_extension": ".py",
   "mimetype": "text/x-python",
   "name": "python",
   "nbconvert_exporter": "python",
   "pygments_lexer": "ipython3",
   "version": "3.10.13"
  }
 },
 "nbformat": 4,
 "nbformat_minor": 2
}

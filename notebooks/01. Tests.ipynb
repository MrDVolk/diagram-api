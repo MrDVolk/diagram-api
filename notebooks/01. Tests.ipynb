{
 "cells": [
  {
   "cell_type": "code",
   "execution_count": 4,
   "metadata": {},
   "outputs": [
    {
     "name": "stdout",
     "output_type": "stream",
     "text": [
      "The autoreload extension is already loaded. To reload it, use:\n",
      "  %reload_ext autoreload\n"
     ]
    }
   ],
   "source": [
    "import __init__\n",
    "from src.parser import Parser\n",
    "from src.converter import Converter\n",
    "\n",
    "%load_ext autoreload\n",
    "%autoreload 2"
   ]
  },
  {
   "cell_type": "code",
   "execution_count": 33,
   "metadata": {},
   "outputs": [
    {
     "name": "stdout",
     "output_type": "stream",
     "text": [
      "Reported[\"Reported\"]{'color':'orange', 'shape':'circle'}\n",
      "Triaged[\"Triaged\"]{'color':'orange', 'shape':'circle'}\n",
      "Investigated[\"Investigated\"]{'color':'orange', 'shape':'circle'}\n",
      "Resolved[\"Resolved\"]{'color':'orange', 'shape':'circle'}\n",
      "Closed[\"Closed\"]{'color':'orange', 'shape':'circle'}\n",
      "UrgencyAssessment[\"Urgency Assessment\"]{'color':'darkblue', 'shape':'rectangle'}\n",
      "Reassessment[\"Reassessment\"]{'color':'darkblue', 'shape':'rectangle'}\n",
      "UserFeedback[\"User Feedback\"]{'color':'green', 'shape':'rectangle'}\n",
      "Monitoring[\"Monitoring\"]{'color':'green', 'shape':'rectangle'}\n",
      "###\n",
      "Reported --> UrgencyAssessment\n",
      "UrgencyAssessment --> Triaged\n",
      "Triaged --> Investigated\n",
      "Investigated --> Resolved\n",
      "Resolved --> Closed\n",
      "Closed --> UserFeedback\n",
      "UserFeedback --> Monitoring\n",
      "Reassessment --> Investigated{'label':'if unresolved', 'type':'dash'}\n",
      "Monitoring --> Reassessment{'type':'dash'}\n"
     ]
    }
   ],
   "source": [
    "input_string = \"Reported[\\\"Reported\\\"]{'color':'orange', 'shape':'circle'}\\nTriaged[\\\"Triaged\\\"]{'color':'orange', 'shape':'circle'}\\nInvestigated[\\\"Investigated\\\"]{'color':'orange', 'shape':'circle'}\\nResolved[\\\"Resolved\\\"]{'color':'orange', 'shape':'circle'}\\nClosed[\\\"Closed\\\"]{'color':'orange', 'shape':'circle'}\\nUrgencyAssessment[\\\"Urgency Assessment\\\"]{'color':'darkblue', 'shape':'rectangle'}\\nReassessment[\\\"Reassessment\\\"]{'color':'darkblue', 'shape':'rectangle'}\\nUserFeedback[\\\"User Feedback\\\"]{'color':'green', 'shape':'rectangle'}\\nMonitoring[\\\"Monitoring\\\"]{'color':'green', 'shape':'rectangle'}\\n###\\nReported --> UrgencyAssessment\\nUrgencyAssessment --> Triaged\\nTriaged --> Investigated\\nInvestigated --> Resolved\\nResolved --> Closed\\nClosed --> UserFeedback\\nUserFeedback --> Monitoring\\nReassessment --> Investigated{'label':'if unresolved', 'type':'dash'}\\nMonitoring --> Reassessment{'type':'dash'}\"\n",
    "  \n",
    "print(input_string)"
   ]
  },
  {
   "cell_type": "code",
   "execution_count": 37,
   "metadata": {},
   "outputs": [
    {
     "name": "stdout",
     "output_type": "stream",
     "text": [
      "web text/dgrm{\"v\": \"1.2\", \"s\": {\"Reported\": {\"id\": \"Reported\", \"type\": 1, \"position\": {\"x\": 192, \"y\": -453}, \"title\": \"Reported\", \"w\": 144, \"h\": 48, \"c\": [\"d-cl-orange\"]}, \"UrgencyAssessment\": {\"id\": \"UrgencyAssessment\", \"type\": 2, \"position\": {\"x\": 192, \"y\": -309}, \"title\": \"Urgency Assessment\", \"w\": 240, \"h\": 48, \"c\": [\"d-cl-blue\"]}, \"Triaged\": {\"id\": \"Triaged\", \"type\": 1, \"position\": {\"x\": 192, \"y\": -165}, \"title\": \"Triaged\", \"w\": 144, \"h\": 48, \"c\": [\"d-cl-orange\"]}, \"Investigated\": {\"id\": \"Investigated\", \"type\": 1, \"position\": {\"x\": 192, \"y\": 75}, \"title\": \"Investigated\", \"w\": 192, \"h\": 96, \"c\": [\"d-cl-orange\"]}, \"Resolved\": {\"id\": \"Resolved\", \"type\": 1, \"position\": {\"x\": 144, \"y\": 363}, \"title\": \"Resolved\", \"w\": 144, \"h\": 48, \"c\": [\"d-cl-orange\"]}, \"Closed\": {\"id\": \"Closed\", \"type\": 1, \"position\": {\"x\": 144, \"y\": 555}, \"title\": \"Closed\", \"w\": 144, \"h\": 48, \"c\": [\"d-cl-orange\"]}, \"UserFeedback\": {\"id\": \"UserFeedback\", \"type\": 2, \"position\": {\"x\": 144, \"y\": 699}, \"title\": \"User Feedback\", \"w\": 192, \"h\": 48, \"c\": [\"d-cl-green\"]}, \"Monitoring\": {\"id\": \"Monitoring\", \"type\": 2, \"position\": {\"x\": 144, \"y\": 795}, \"title\": \"Monitoring\", \"w\": 144, \"h\": 48, \"c\": [\"d-cl-green\"]}, \"Reassessment\": {\"id\": \"Reassessment\", \"type\": 2, \"position\": {\"x\": 192, \"y\": 891}, \"title\": \"Reassessment\", \"w\": 144, \"h\": 48, \"c\": [\"d-cl-blue\"]}, \"Reported:UrgencyAssessment\": {\"id\": \"Reported:UrgencyAssessment\", \"type\": 0, \"s\": {\"s\": \"Reported\", \"k\": \"bottom\"}, \"e\": {\"s\": \"UrgencyAssessment\", \"k\": \"top\"}, \"title\": null, \"c\": [\"d-arw-e\"]}, \"UrgencyAssessment:Triaged\": {\"id\": \"UrgencyAssessment:Triaged\", \"type\": 0, \"s\": {\"s\": \"UrgencyAssessment\", \"k\": \"bottom\"}, \"e\": {\"s\": \"Triaged\", \"k\": \"top\"}, \"title\": null, \"c\": [\"d-arw-e\"]}, \"Triaged:Investigated\": {\"id\": \"Triaged:Investigated\", \"type\": 0, \"s\": {\"s\": \"Triaged\", \"k\": \"bottom\"}, \"e\": {\"s\": \"Investigated\", \"k\": \"top\"}, \"title\": null, \"c\": [\"d-arw-e\"]}, \"Investigated:Resolved\": {\"id\": \"Investigated:Resolved\", \"type\": 0, \"s\": {\"s\": \"Investigated\", \"k\": \"bottom\"}, \"e\": {\"s\": \"Resolved\", \"k\": \"top\"}, \"title\": null, \"c\": [\"d-arw-e\"]}, \"Resolved:Closed\": {\"id\": \"Resolved:Closed\", \"type\": 0, \"s\": {\"s\": \"Resolved\", \"k\": \"bottom\"}, \"e\": {\"s\": \"Closed\", \"k\": \"top\"}, \"title\": null, \"c\": [\"d-arw-e\"]}, \"Closed:UserFeedback\": {\"id\": \"Closed:UserFeedback\", \"type\": 0, \"s\": {\"s\": \"Closed\", \"k\": \"bottom\"}, \"e\": {\"s\": \"UserFeedback\", \"k\": \"top\"}, \"title\": null, \"c\": [\"d-arw-e\"]}, \"UserFeedback:Monitoring\": {\"id\": \"UserFeedback:Monitoring\", \"type\": 0, \"s\": {\"s\": \"UserFeedback\", \"k\": \"bottom\"}, \"e\": {\"s\": \"Monitoring\", \"k\": \"top\"}, \"title\": null, \"c\": [\"d-arw-e\"]}, \"Monitoring:Reassessment\": {\"id\": \"Monitoring:Reassessment\", \"type\": 0, \"s\": {\"s\": \"Monitoring\", \"k\": \"bottom\"}, \"e\": {\"s\": \"Reassessment\", \"k\": \"top\"}, \"title\": null, \"c\": [\"d-dash\"]}, \"Reassessment:Investigated\": {\"id\": \"Reassessment:Investigated\", \"type\": 0, \"s\": {\"s\": \"Reassessment\", \"k\": \"bottom\"}, \"e\": {\"s\": \"Investigated\", \"k\": \"top\"}, \"title\": null, \"c\": [\"d-arw-e\"]}}}\n"
     ]
    }
   ],
   "source": [
    "import json\n",
    "graph_object = Parser({'render_image': True}).to_graph(input_string)\n",
    "graph_json = Converter().to_json(graph_object)\n",
    "\n",
    "# print(json.dumps(graph_json))\n",
    "print(f'web text/dgrm{json.dumps(graph_json)}')"
   ]
  },
  {
   "cell_type": "code",
   "execution_count": null,
   "metadata": {},
   "outputs": [],
   "source": []
  }
 ],
 "metadata": {
  "kernelspec": {
   "display_name": "Python 3",
   "language": "python",
   "name": "python3"
  },
  "language_info": {
   "codemirror_mode": {
    "name": "ipython",
    "version": 3
   },
   "file_extension": ".py",
   "mimetype": "text/x-python",
   "name": "python",
   "nbconvert_exporter": "python",
   "pygments_lexer": "ipython3",
   "version": "3.10.13"
  }
 },
 "nbformat": 4,
 "nbformat_minor": 2
}
